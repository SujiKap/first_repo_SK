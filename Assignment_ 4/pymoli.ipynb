{
 "cells": [
  {
   "cell_type": "code",
   "execution_count": 80,
   "metadata": {},
   "outputs": [],
   "source": [
    "import pandas as pd\n",
    "import numpy as nm"
   ]
  },
  {
   "cell_type": "code",
   "execution_count": 81,
   "metadata": {},
   "outputs": [
    {
     "data": {
      "text/html": [
       "<div>\n",
       "<style scoped>\n",
       "    .dataframe tbody tr th:only-of-type {\n",
       "        vertical-align: middle;\n",
       "    }\n",
       "\n",
       "    .dataframe tbody tr th {\n",
       "        vertical-align: top;\n",
       "    }\n",
       "\n",
       "    .dataframe thead th {\n",
       "        text-align: right;\n",
       "    }\n",
       "</style>\n",
       "<table border=\"1\" class=\"dataframe\">\n",
       "  <thead>\n",
       "    <tr style=\"text-align: right;\">\n",
       "      <th></th>\n",
       "      <th>Purchase ID</th>\n",
       "      <th>SN</th>\n",
       "      <th>Age</th>\n",
       "      <th>Gender</th>\n",
       "      <th>Item ID</th>\n",
       "      <th>Item Name</th>\n",
       "      <th>Price</th>\n",
       "    </tr>\n",
       "  </thead>\n",
       "  <tbody>\n",
       "    <tr>\n",
       "      <th>0</th>\n",
       "      <td>0</td>\n",
       "      <td>Lisim78</td>\n",
       "      <td>20</td>\n",
       "      <td>Male</td>\n",
       "      <td>108</td>\n",
       "      <td>Extraction, Quickblade Of Trembling Hands</td>\n",
       "      <td>3.53</td>\n",
       "    </tr>\n",
       "    <tr>\n",
       "      <th>1</th>\n",
       "      <td>1</td>\n",
       "      <td>Lisovynya38</td>\n",
       "      <td>40</td>\n",
       "      <td>Male</td>\n",
       "      <td>143</td>\n",
       "      <td>Frenzied Scimitar</td>\n",
       "      <td>1.56</td>\n",
       "    </tr>\n",
       "    <tr>\n",
       "      <th>2</th>\n",
       "      <td>2</td>\n",
       "      <td>Ithergue48</td>\n",
       "      <td>24</td>\n",
       "      <td>Male</td>\n",
       "      <td>92</td>\n",
       "      <td>Final Critic</td>\n",
       "      <td>4.88</td>\n",
       "    </tr>\n",
       "    <tr>\n",
       "      <th>3</th>\n",
       "      <td>3</td>\n",
       "      <td>Chamassasya86</td>\n",
       "      <td>24</td>\n",
       "      <td>Male</td>\n",
       "      <td>100</td>\n",
       "      <td>Blindscythe</td>\n",
       "      <td>3.27</td>\n",
       "    </tr>\n",
       "    <tr>\n",
       "      <th>4</th>\n",
       "      <td>4</td>\n",
       "      <td>Iskosia90</td>\n",
       "      <td>23</td>\n",
       "      <td>Male</td>\n",
       "      <td>131</td>\n",
       "      <td>Fury</td>\n",
       "      <td>1.44</td>\n",
       "    </tr>\n",
       "  </tbody>\n",
       "</table>\n",
       "</div>"
      ],
      "text/plain": [
       "   Purchase ID             SN  Age Gender  Item ID  \\\n",
       "0            0        Lisim78   20   Male      108   \n",
       "1            1    Lisovynya38   40   Male      143   \n",
       "2            2     Ithergue48   24   Male       92   \n",
       "3            3  Chamassasya86   24   Male      100   \n",
       "4            4      Iskosia90   23   Male      131   \n",
       "\n",
       "                                   Item Name  Price  \n",
       "0  Extraction, Quickblade Of Trembling Hands   3.53  \n",
       "1                          Frenzied Scimitar   1.56  \n",
       "2                               Final Critic   4.88  \n",
       "3                                Blindscythe   3.27  \n",
       "4                                       Fury   1.44  "
      ]
     },
     "execution_count": 81,
     "metadata": {},
     "output_type": "execute_result"
    }
   ],
   "source": [
    "Path =\"C:/Users/kapali_s/Documents/SMU/Homeworks/Assignment_ 4/purchase_data.csv\"\n",
    "Purchase_Data = pd.read_csv(Path, encoding=\"ISO-8859-1\")\n",
    "Purchase_Data.head()"
   ]
  },
  {
   "cell_type": "code",
   "execution_count": 13,
   "metadata": {},
   "outputs": [
    {
     "data": {
      "text/plain": [
       "Purchase ID    780\n",
       "SN             780\n",
       "Age            780\n",
       "Gender         780\n",
       "Item ID        780\n",
       "Item Name      780\n",
       "Price          780\n",
       "dtype: int64"
      ]
     },
     "execution_count": 13,
     "metadata": {},
     "output_type": "execute_result"
    }
   ],
   "source": [
    "#Total count\n",
    "Purchase_Data.count()"
   ]
  },
  {
   "cell_type": "code",
   "execution_count": 7,
   "metadata": {},
   "outputs": [
    {
     "data": {
      "text/plain": [
       "576"
      ]
     },
     "execution_count": 7,
     "metadata": {},
     "output_type": "execute_result"
    }
   ],
   "source": [
    "#Remove duplicates and keep unique values\n",
    "Purchase_Data_Unique = Purchase_Data[\"SN\"].value_counts()\n",
    "Purchase_Data_Unique.count()\n",
    "Total_Players=Purchase_Data_Unique.count()\n",
    "Total_Players\n"
   ]
  },
  {
   "cell_type": "code",
   "execution_count": 8,
   "metadata": {},
   "outputs": [
    {
     "data": {
      "text/plain": [
       "2379.77"
      ]
     },
     "execution_count": 8,
     "metadata": {},
     "output_type": "execute_result"
    }
   ],
   "source": [
    "#Number of Unique Items\n",
    "Number_Unique_Items = Purchase_Data[\"Item ID\"].value_counts()\n",
    "Number_Unique_Items.count()\n",
    "\n",
    "#Average Purchase Price\n",
    "Average_Purchase_Price = Purchase_Data[\"Price\"].mean()\n",
    "Average_Purchase_Price\n",
    "\n",
    "#Total Number of Purchases\n",
    "Total_Number_Purchases = Purchase_Data.count()\n",
    "Total_Number_Purchases\n",
    "\n",
    "#Total Revenue\n",
    "Total_Revenue = Purchase_Data[\"Price\"].sum()\n",
    "Total_Revenue\n"
   ]
  },
  {
   "cell_type": "code",
   "execution_count": 9,
   "metadata": {},
   "outputs": [],
   "source": [
    "#Replace Other / Non-Disclosed by NonDisclosed\n",
    "Purchase_Data['Gender'] = Purchase_Data['Gender'].replace({'Other / Non-Disclosed':'NonDisclosed'})\n"
   ]
  },
  {
   "cell_type": "code",
   "execution_count": 10,
   "metadata": {},
   "outputs": [
    {
     "data": {
      "text/plain": [
       "1.9097222222222223"
      ]
     },
     "execution_count": 10,
     "metadata": {},
     "output_type": "execute_result"
    }
   ],
   "source": [
    "#Gender Demographics\n",
    "\n",
    "#Take unique values of gender and SN\n",
    "Group_Gender_NoDuplicates = Purchase_Data.groupby([\"Gender\",\"SN\"])\n",
    "Total_Gender = Group_Gender_NoDuplicates[\"Gender\"].count()\n",
    "\n",
    "#Percentage and Count of Male Players\n",
    "Male_Total = Total_Gender['Male'].count()\n",
    "Male_Total\n",
    "Male_Percentage = (Male_Total / Total_Players)*100\n",
    "Male_Percentage\n",
    "\n",
    "#Percentage and Count of Female Players\n",
    "Female_Total = Total_Gender['Female'].count()\n",
    "Female_Total\n",
    "Female_Percentage = (Female_Total / Total_Players)*100\n",
    "Female_Percentage\n",
    "\n",
    "#Percentage and Count of Other / Non-Disclosed\n",
    "Non_Disclosed_Total = Total_Gender['NonDisclosed'].count()\n",
    "Non_Disclosed_Total\n",
    "Non_Disclosed_Percentage = (Non_Disclosed_Total / Total_Players)*100\n",
    "Non_Disclosed_Percentage"
   ]
  },
  {
   "cell_type": "code",
   "execution_count": 52,
   "metadata": {
    "scrolled": true
   },
   "outputs": [
    {
     "data": {
      "text/plain": [
       "4.065371900826446"
      ]
     },
     "execution_count": 52,
     "metadata": {},
     "output_type": "execute_result"
    }
   ],
   "source": [
    " #Purchasing Analysis (Gender) - MALE\n",
    "Gender_Group = Purchase_Data.loc[Purchase_Data[\"Gender\"] == \"Male\",:]\n",
    "    \n",
    "Purchase_Count = Gender_Group ['Purchase ID'].count()\n",
    "Purchase_Count\n",
    "\n",
    "Avg_Purchase_price = Gender_Group ['Price'].mean()\n",
    "Avg_Purchase_price\n",
    "        \n",
    "Total_Purchase_price = Gender_Group ['Price'].sum()\n",
    "Total_Purchase_price\n",
    "\n",
    "#Calculate unique # of males\n",
    "Group_Gender_NoDuplicates = Purchase_Data.groupby([\"Gender\",\"SN\"])\n",
    "Total_Gender = Group_Gender_NoDuplicates[\"Gender\"].count()\n",
    "Male_NoDuplicates = Total_Gender[\"Male\"].count()\n",
    "\n",
    "#Average Purchase Total per Person by Gender MALE\n",
    "Avg_PP_Male = Total_Purchase_price / Male_NoDuplicates\n",
    "Avg_PP_Male\n"
   ]
  },
  {
   "cell_type": "code",
   "execution_count": 43,
   "metadata": {},
   "outputs": [
    {
     "data": {
      "text/plain": [
       "4.065371900826446"
      ]
     },
     "execution_count": 43,
     "metadata": {},
     "output_type": "execute_result"
    }
   ],
   "source": [
    " #Purchasing Analysis (Gender) - FEMALE\n",
    "Gender_Group = Purchase_Data.loc[Purchase_Data[\"Gender\"] == \"Female\",:]\n",
    "    \n",
    "Purchase_Count = Gender_Group ['Purchase ID'].count()\n",
    "Purchase_Count\n",
    "\n",
    "Avg_Purchase_price = Gender_Group ['Price'].mean()\n",
    "Avg_Purchase_price\n",
    "        \n",
    "Total_Purchase_price = Gender_Group ['Price'].sum()\n",
    "Total_Purchase_price\n",
    "\n",
    "#Calculate unique # of males\n",
    "Group_Gender_NoDuplicates = Purchase_Data.groupby([\"Gender\",\"SN\"])\n",
    "Total_Gender = Group_Gender_NoDuplicates[\"Gender\"].count()\n",
    "Female_NoDuplicates = Total_Gender[\"Female\"].count()\n",
    "\n",
    "#Average Purchase Total per Person by Gender MALE\n",
    "Avg_PP_Female = Female_Total_Purchase_Value / Female_NoDuplicates\n",
    "Avg_PP_Female"
   ]
  },
  {
   "cell_type": "code",
   "execution_count": 51,
   "metadata": {},
   "outputs": [
    {
     "data": {
      "text/plain": [
       "4.468395061728395"
      ]
     },
     "execution_count": 51,
     "metadata": {},
     "output_type": "execute_result"
    }
   ],
   "source": [
    " #Purchasing Analysis (Gender) - OTHER / NON-DISCLOSED\n",
    "Gender_Group = Purchase_Data.loc[Purchase_Data[\"Gender\"] == \"NonDisclosed\",:]\n",
    "    \n",
    "Purchase_Count = Gender_Group ['Purchase ID'].count()\n",
    "Purchase_Count\n",
    "\n",
    "Avg_Purchase_price = Gender_Group ['Price'].mean()\n",
    "Avg_Purchase_price\n",
    "        \n",
    "Total_Purchase_price = Gender_Group ['Price'].sum()\n",
    "Total_Purchase_price\n",
    "\n",
    "#Calculate unique # of males\n",
    "Group_Gender_NoDuplicates = Purchase_Data.groupby([\"Gender\",\"SN\"])\n",
    "Total_Gender = Group_Gender_NoDuplicates[\"Gender\"].count()\n",
    "NonDisclosed_NoDuplicates = Total_Gender[\"NonDisclosed\"].count()\n",
    "\n",
    "#Average Purchase Total per Person by Gender NonDisclosed\n",
    "Avg_PP_NonDisclosed = Total_Purchase_price / NonDisclosed_NoDuplicates\n",
    "Avg_PP_NonDisclosed"
   ]
  },
  {
   "cell_type": "code",
   "execution_count": 86,
   "metadata": {},
   "outputs": [
    {
     "ename": "SyntaxError",
     "evalue": "unexpected EOF while parsing (<ipython-input-86-450e98173c64>, line 5)",
     "output_type": "error",
     "traceback": [
      "\u001b[1;36m  File \u001b[1;32m\"<ipython-input-86-450e98173c64>\"\u001b[1;36m, line \u001b[1;32m5\u001b[0m\n\u001b[1;33m    Groupby_SN([\"Price\"].sum()\u001b[0m\n\u001b[1;37m                              ^\u001b[0m\n\u001b[1;31mSyntaxError\u001b[0m\u001b[1;31m:\u001b[0m unexpected EOF while parsing\n"
     ]
    }
   ],
   "source": [
    "# Age Demographics\n",
    "#Group by what we need\n",
    "GroupBy_SN = Purchase_Data.groupby([\"SN\",\"Price\"])\n",
    "GroupBy_SN.head()\n",
    "Groupby_SN([\"Price\"].sum()"
   ]
  },
  {
   "cell_type": "code",
   "execution_count": null,
   "metadata": {},
   "outputs": [],
   "source": []
  },
  {
   "cell_type": "code",
   "execution_count": null,
   "metadata": {},
   "outputs": [],
   "source": [
    "\n",
    "    "
   ]
  },
  {
   "cell_type": "code",
   "execution_count": null,
   "metadata": {},
   "outputs": [],
   "source": []
  },
  {
   "cell_type": "code",
   "execution_count": null,
   "metadata": {},
   "outputs": [],
   "source": []
  }
 ],
 "metadata": {
  "kernelspec": {
   "display_name": "Python 3",
   "language": "python",
   "name": "python3"
  },
  "language_info": {
   "codemirror_mode": {
    "name": "ipython",
    "version": 3
   },
   "file_extension": ".py",
   "mimetype": "text/x-python",
   "name": "python",
   "nbconvert_exporter": "python",
   "pygments_lexer": "ipython3",
   "version": "3.7.1"
  }
 },
 "nbformat": 4,
 "nbformat_minor": 2
}
